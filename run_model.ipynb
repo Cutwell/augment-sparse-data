{
 "cells": [
  {
   "cell_type": "code",
   "execution_count": null,
   "metadata": {},
   "outputs": [],
   "source": [
    "import tensorflow as tf\n",
    "import os\n",
    "from os.path import exists\n",
    "from tensorflow.python.keras.models import load_model\n",
    "import pandas as pd\n",
    "import joblib"
   ]
  },
  {
   "cell_type": "code",
   "execution_count": null,
   "metadata": {},
   "outputs": [],
   "source": [
    "def batch(folder):\n",
    "    save_dir = os.path.join(os.getcwd(), 'saved_models')\n",
    "    model_name = 'wind_regression_model.h5'\n",
    "    model_path = os.path.join(save_dir, model_name)\n",
    "\n",
    "    if exists(model_path):  # load model if exists\n",
    "        print(f\"LOADING MODEL: {model_path}\")\n",
    "        wind_model = load_model(model_path)\n",
    "    else:\n",
    "        raise Exception(\"NO MODEL FOUND\")\n",
    "\n",
    "    wind_model.summary()\n",
    "\n",
    "    # load wind model input scaler\n",
    "    save_dir = os.path.join(os.getcwd(), 'saved_models')\n",
    "    scaler_name = 'wind_regression_scaler'\n",
    "    scaler_path = os.path.join(save_dir, scaler_name)\n",
    "\n",
    "    wind_scaler = joblib.load(scaler_path)\n",
    "\n",
    "    # read file names from 'data\\admiralty bathymetry UK east coast' folder\n",
    "    file_names = os.listdir(folder)\n",
    "\n",
    "    wind_data = pd.DataFrame(columns=['Lat', 'Lon', 'Chi'])\n",
    "\n",
    "    # for each file in folder\n",
    "    for file in file_names:\n",
    "        file_path = os.path.join(folder, file)\n",
    "        print(f\"Processing: {file_path}\")\n",
    "        \n",
    "        df = pd.read_csv(file_path, sep=' ')    # read file\n",
    "        coords = df.drop(columns=['Depth'])     # drop Depth from dataframe\n",
    "\n",
    "        # predict in batches (per file)\n",
    "        regression = wind_model.predict(coords)\n",
    "        regression = wind_scaler.inverse_transform(regression)  # transform back to original scale\n",
    "\n",
    "        regression = pd.DataFrame(regression, columns=['Chi'])  # convert predictions to dataframe\n",
    "        regression = pd.concat([coords, regression], axis=1)     # concat coords and regression\n",
    "\n",
    "        wind_data = pd.concat([wind_data, regression], ignore_index=True)   # concat to output dataframe\n",
    "\n",
    "    wind_data.to_csv(f'{folder}.csv', index=False) # write to csv file"
   ]
  },
  {
   "cell_type": "code",
   "execution_count": null,
   "metadata": {},
   "outputs": [],
   "source": [
    "batch('data/UK East Coast')"
   ]
  }
 ],
 "metadata": {
  "kernelspec": {
   "display_name": "Python 3.10.4 64-bit",
   "language": "python",
   "name": "python3"
  },
  "language_info": {
   "name": "python",
   "version": "3.10.4"
  },
  "orig_nbformat": 4,
  "vscode": {
   "interpreter": {
    "hash": "aee8b7b246df8f9039afb4144a1f6fd8d2ca17a180786b69acc140d282b71a49"
   }
  }
 },
 "nbformat": 4,
 "nbformat_minor": 2
}
